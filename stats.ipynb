{
 "cells": [
  {
   "cell_type": "markdown",
   "metadata": {},
   "source": [
    "Import Statements"
   ]
  },
  {
   "cell_type": "code",
   "execution_count": 25,
   "metadata": {},
   "outputs": [],
   "source": [
    "import pandas as pd\n",
    "import seaborn as sns\n",
    "import matplotlib.pyplot as plt"
   ]
  },
  {
   "cell_type": "markdown",
   "metadata": {},
   "source": [
    "Import library functions"
   ]
  },
  {
   "cell_type": "code",
   "execution_count": 26,
   "metadata": {},
   "outputs": [],
   "source": [
    "from lib import load_data, get_mean, get_median,get_stdev, get_summary_statistics, plot_histogram_save"
   ]
  },
  {
   "cell_type": "markdown",
   "metadata": {},
   "source": [
    "Load Data"
   ]
  },
  {
   "cell_type": "code",
   "execution_count": 27,
   "metadata": {},
   "outputs": [],
   "source": [
    "url = 'https://gist.githubusercontent.com/tiangechen/b68782efa49a16edaf07dc2cdaa855ea/raw/0c794a9717f18b094eabab2cd6a6b9a226903577/movies.csv'\n",
    "df = load_data(url)"
   ]
  },
  {
   "cell_type": "markdown",
   "metadata": {},
   "source": [
    "Print Summary Statistics"
   ]
  },
  {
   "cell_type": "code",
   "execution_count": 28,
   "metadata": {},
   "outputs": [
    {
     "name": "stdout",
     "output_type": "stream",
     "text": [
      "       Audience score %  Profitability  Rotten Tomatoes %         Year\n",
      "count         46.000000      46.000000          46.000000    46.000000\n",
      "mean          64.195652       5.138843          48.326087  2009.065217\n",
      "std           13.071801      10.038464          26.619170     1.436078\n",
      "min           40.000000       0.000000           3.000000  2007.000000\n",
      "25%           52.500000       1.858302          27.250000  2008.000000\n",
      "50%           62.500000       2.640843          46.500000  2009.000000\n",
      "75%           76.000000       4.977038          69.500000  2010.000000\n",
      "max           89.000000      66.934000          93.000000  2011.000000\n"
     ]
    }
   ],
   "source": [
    "print(get_summary_statistics(df))"
   ]
  },
  {
   "cell_type": "markdown",
   "metadata": {},
   "source": [
    "Print Mean, Median, and Stdev"
   ]
  },
  {
   "cell_type": "code",
   "execution_count": 29,
   "metadata": {},
   "outputs": [
    {
     "name": "stdout",
     "output_type": "stream",
     "text": [
      "Mean of 'Rotten Tomatoes %': 48.32608695652174\n",
      "Median of 'Rotten Tomatoes %': 46.5\n",
      "Standard Deviation of 'Rotten Tomatoes %': 26.61916965716089\n"
     ]
    }
   ],
   "source": [
    "print(f\"Mean of 'Rotten Tomatoes %': {get_mean(df, 'Rotten Tomatoes %')}\")\n",
    "print(f\"Median of 'Rotten Tomatoes %': {get_median(df, 'Rotten Tomatoes %')}\")\n",
    "print(f\"Standard Deviation of 'Rotten Tomatoes %': {get_stdev(df, 'Rotten Tomatoes %')}\")"
   ]
  },
  {
   "cell_type": "markdown",
   "metadata": {},
   "source": [
    "Create Histogram and save it."
   ]
  },
  {
   "cell_type": "code",
   "execution_count": 30,
   "metadata": {},
   "outputs": [],
   "source": [
    "# Plotting a histogram for 'rating'\n",
    "fname= plot_histogram_save(df, 'Rotten Tomatoes %')\n"
   ]
  },
  {
   "cell_type": "markdown",
   "metadata": {},
   "source": [
    "![histogram](histogram.png)"
   ]
  }
 ],
 "metadata": {
  "kernelspec": {
   "display_name": "Python 3",
   "language": "python",
   "name": "python3"
  },
  "language_info": {
   "codemirror_mode": {
    "name": "ipython",
    "version": 3
   },
   "file_extension": ".py",
   "mimetype": "text/x-python",
   "name": "python",
   "nbconvert_exporter": "python",
   "pygments_lexer": "ipython3",
   "version": "3.9.18"
  },
  "orig_nbformat": 4
 },
 "nbformat": 4,
 "nbformat_minor": 2
}
